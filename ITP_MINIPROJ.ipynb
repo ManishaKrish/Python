{
 "cells": [
  {
   "cell_type": "markdown",
   "id": "ec2f9d38",
   "metadata": {},
   "source": [
    "# Mini-Project"
   ]
  },
  {
   "cell_type": "markdown",
   "id": "d3952216",
   "metadata": {},
   "source": [
    "# PROBLEM STATEMENT"
   ]
  },
  {
   "cell_type": "markdown",
   "id": "aec31fb1",
   "metadata": {},
   "source": [
    "For a seamless eCommerce shopping experience, it is essential to deliver the product promptly to the customer. And that’s where a professional courier service plays a vital role. 'FastTrack' courier company stores the relevant data of its clients and parcels in the form of dictionary. Create a dictionary for storing shipment information in key-value pairs. Shipment id is used as a key and list of other attributes like sender, receiver, start date, Delivery Date, Sender_location, Receiver_location, Delivery status, Shipping cost is associated with shipment id. Use the data shown in the table below.\n",
    " \n",
    "Use below table to refer to client’s data. Please note that a client can be a sender or receiver.\n",
    " \n"
   ]
  },
  {
   "cell_type": "markdown",
   "id": "2a1628c1",
   "metadata": {},
   "source": [
    "### 1. Create a Dictionary of lists to store the information of shipments given in the table"
   ]
  },
  {
   "cell_type": "code",
   "execution_count": 1,
   "id": "f46ce81c",
   "metadata": {},
   "outputs": [
    {
     "data": {
      "text/plain": [
       "{101: [1, 3, '14-03-2020', '25-03-2020', 'Area1', 'Area6', 'Delivered', 198],\n",
       " 102: [4, 1, '18-06-2020', '09-07-2020', 'Area2', 'Area4', 'Delivered', 275],\n",
       " 103: [2, 3, '01-12-2020', 'Null', 'Area5', 'Area1', 'In-Transit', 200],\n",
       " 104: [1, 5, '23-06-2020', '25-06-2020', 'Area1', 'Area4', 'Delivered', 314],\n",
       " 105: [3, 4, '29-08-2020', '10-09-2020', 'Area5', 'Area3', 'Delivered', 275],\n",
       " 106: [5, 2, '28-09-2020', 'Null', 'Area3', 'Area1', 'In-Transit', 270]}"
      ]
     },
     "execution_count": 1,
     "metadata": {},
     "output_type": "execute_result"
    }
   ],
   "source": [
    "shipments = {101:[1,3,'14-03-2020','25-03-2020','Area1','Area6','Delivered',198],\n",
    "        102: [4 ,1,'18-06-2020','09-07-2020','Area2','Area4','Delivered',275],\n",
    "        103 :[2,3,'01-12-2020','Null','Area5','Area1','In-Transit',200],\n",
    "        104 :[1,5,'23-06-2020','25-06-2020','Area1','Area4','Delivered',314],\n",
    "        105: [3,4,'29-08-2020','10-09-2020','Area5','Area3','Delivered',275],\n",
    "        106:[5,2,'28-09-2020','Null','Area3','Area1','In-Transit',270] }\n",
    "shipments"
   ]
  },
  {
   "cell_type": "markdown",
   "id": "7689e372",
   "metadata": {},
   "source": [
    "### 2. Create a Dictionary of to store the information of clients given in the table."
   ]
  },
  {
   "cell_type": "code",
   "execution_count": 2,
   "id": "61f352ee",
   "metadata": {},
   "outputs": [
    {
     "name": "stdout",
     "output_type": "stream",
     "text": [
      "{1: 'Phillip', 2: 'Omega III', 3: 'Ramya', 4: 'Romesh', 5: 'John'}\n"
     ]
    }
   ],
   "source": [
    "clients = {1:'Phillip',2:'Omega III',3:'Ramya',4:'Romesh',5:'John'}\n",
    "print(clients)"
   ]
  },
  {
   "cell_type": "markdown",
   "id": "e374d76d",
   "metadata": {},
   "source": [
    "### 3. Write a code to replace client’s id with their respective name in shipment dictionary using a loop and dictionary comprehension"
   ]
  },
  {
   "cell_type": "code",
   "execution_count": 4,
   "id": "e316a237",
   "metadata": {},
   "outputs": [
    {
     "data": {
      "text/plain": [
       "{101: ['Phillip',\n",
       "  'Ramya',\n",
       "  '14-03-2020',\n",
       "  '25-03-2020',\n",
       "  'Area1',\n",
       "  'Area6',\n",
       "  'Delivered',\n",
       "  198],\n",
       " 102: ['Romesh',\n",
       "  'Phillip',\n",
       "  '18-06-2020',\n",
       "  '09-07-2020',\n",
       "  'Area2',\n",
       "  'Area4',\n",
       "  'Delivered',\n",
       "  275],\n",
       " 103: ['Omega III',\n",
       "  'Ramya',\n",
       "  '01-12-2020',\n",
       "  'Null',\n",
       "  'Area5',\n",
       "  'Area1',\n",
       "  'In-Transit',\n",
       "  200],\n",
       " 104: ['Phillip',\n",
       "  'John',\n",
       "  '23-06-2020',\n",
       "  '25-06-2020',\n",
       "  'Area1',\n",
       "  'Area4',\n",
       "  'Delivered',\n",
       "  314],\n",
       " 105: ['Ramya',\n",
       "  'Romesh',\n",
       "  '29-08-2020',\n",
       "  '10-09-2020',\n",
       "  'Area5',\n",
       "  'Area3',\n",
       "  'Delivered',\n",
       "  275],\n",
       " 106: ['John',\n",
       "  'Omega III',\n",
       "  '28-09-2020',\n",
       "  'Null',\n",
       "  'Area3',\n",
       "  'Area1',\n",
       "  'In-Transit',\n",
       "  270]}"
      ]
     },
     "execution_count": 4,
     "metadata": {},
     "output_type": "execute_result"
    }
   ],
   "source": [
    "#loop\n",
    "for i in shipments:\n",
    "    a,b = shipments[i][0],shipments[i][1]\n",
    "    shipments[i][0]=clients[a]\n",
    "    shipments[i][1]=clients[b]\n",
    "shipments\n"
   ]
  },
  {
   "cell_type": "code",
   "execution_count": 5,
   "id": "9591109c",
   "metadata": {},
   "outputs": [
    {
     "data": {
      "text/plain": [
       "{101: ['Phillip',\n",
       "  'Ramya',\n",
       "  '14-03-2020',\n",
       "  '25-03-2020',\n",
       "  'Area1',\n",
       "  'Area6',\n",
       "  'Delivered'],\n",
       " 102: ['Romesh',\n",
       "  'Phillip',\n",
       "  '18-06-2020',\n",
       "  '09-07-2020',\n",
       "  'Area2',\n",
       "  'Area4',\n",
       "  'Delivered'],\n",
       " 103: ['Omega III',\n",
       "  'Ramya',\n",
       "  '01-12-2020',\n",
       "  'Null',\n",
       "  'Area5',\n",
       "  'Area1',\n",
       "  'In-Transit'],\n",
       " 104: ['Phillip',\n",
       "  'John',\n",
       "  '23-06-2020',\n",
       "  '25-06-2020',\n",
       "  'Area1',\n",
       "  'Area4',\n",
       "  'Delivered'],\n",
       " 105: ['Ramya',\n",
       "  'Romesh',\n",
       "  '29-08-2020',\n",
       "  '10-09-2020',\n",
       "  'Area5',\n",
       "  'Area3',\n",
       "  'Delivered'],\n",
       " 106: ['John',\n",
       "  'Omega III',\n",
       "  '28-09-2020',\n",
       "  'Null',\n",
       "  'Area3',\n",
       "  'Area1',\n",
       "  'In-Transit']}"
      ]
     },
     "execution_count": 5,
     "metadata": {},
     "output_type": "execute_result"
    }
   ],
   "source": [
    "## using Dictionary Comprehension\n",
    "shipments = {101:[1,3,'14-03-2020','25-03-2020','Area1','Area6','Delivered',198],\n",
    "        102: [4 ,1,'18-06-2020','09-07-2020','Area2','Area4','Delivered',275],\n",
    "        103 :[2,3,'01-12-2020','Null','Area5','Area1','In-Transit',200],\n",
    "        104 :[1,5,'23-06-2020','25-06-2020','Area1','Area4','Delivered',314],\n",
    "        105: [3,4,'29-08-2020','10-09-2020','Area5','Area3','Delivered',275],\n",
    "        106:[5,2,'28-09-2020','Null','Area3','Area1','In-Transit',270] }\n",
    "\n",
    "\n",
    "ship1 = {i:[clients[shipments[i][0]],clients[shipments[i][1]],shipments[i][2],shipments[i][3],shipments[i][4],shipments[i][5],shipments[i][6]] for i in shipments} \n",
    "ship1"
   ]
  },
  {
   "cell_type": "markdown",
   "id": "52249459",
   "metadata": {},
   "source": [
    "### 4. Print all shipment details that are sent by Phillip"
   ]
  },
  {
   "cell_type": "code",
   "execution_count": 6,
   "id": "8ecfc407",
   "metadata": {},
   "outputs": [
    {
     "name": "stdout",
     "output_type": "stream",
     "text": [
      "['Phillip', 'Ramya', '14-03-2020', '25-03-2020', 'Area1', 'Area6', 'Delivered', 198]\n",
      "['Phillip', 'John', '23-06-2020', '25-06-2020', 'Area1', 'Area4', 'Delivered', 314]\n"
     ]
    }
   ],
   "source": [
    "shipments = {101:[1,3,'14-03-2020','25-03-2020','Area1','Area6','Delivered',198],\n",
    "        102: [4 ,1,'18-06-2020','09-07-2020','Area2','Area4','Delivered',275],\n",
    "        103 :[2,3,'01-12-2020','Null','Area5','Area1','In-Transit',200],\n",
    "        104 :[1,5,'23-06-2020','25-06-2020','Area1','Area4','Delivered',314],\n",
    "        105: [3,4,'29-08-2020','10-09-2020','Area5','Area3','Delivered',275],\n",
    "        106:[5,2,'28-09-2020','Null','Area3','Area1','In-Transit',270] }\n",
    "\n",
    "\n",
    "clients = {1:'Phillip',2:'Omega III',3:'Ramya',4:'Romesh',5:'John'}\n",
    "\n",
    "for i in shipments:\n",
    "    x,y=shipments[i][0],shipments[i][1]\n",
    "    shipments[i][0]=clients[x]\n",
    "    shipments[i][1]=clients[y]\n",
    "    if (shipments[i][0] == 'Phillip'):\n",
    "        print(shipments[i])"
   ]
  },
  {
   "cell_type": "markdown",
   "id": "5692b708",
   "metadata": {},
   "source": [
    "### 5. Print all shipment details that are sent by Ramya"
   ]
  },
  {
   "cell_type": "code",
   "execution_count": 7,
   "id": "d7e13bd4",
   "metadata": {},
   "outputs": [
    {
     "name": "stdout",
     "output_type": "stream",
     "text": [
      "['Phillip', 'Ramya', '14-03-2020', '25-03-2020', 'Area1', 'Area6', 'Delivered', 198]\n",
      "['Omega III', 'Ramya', '01-12-2020', 'Null', 'Area5', 'Area1', 'In-Transit', 200]\n"
     ]
    }
   ],
   "source": [
    "shipments = {101:[1,3,'14-03-2020','25-03-2020','Area1','Area6','Delivered',198],\n",
    "        102: [4 ,1,'18-06-2020','09-07-2020','Area2','Area4','Delivered',275],\n",
    "        103 :[2,3,'01-12-2020','Null','Area5','Area1','In-Transit',200],\n",
    "        104 :[1,5,'23-06-2020','25-06-2020','Area1','Area4','Delivered',314],\n",
    "        105: [3,4,'29-08-2020','10-09-2020','Area5','Area3','Delivered',275],\n",
    "        106:[5,2,'28-09-2020','Null','Area3','Area1','In-Transit',270] }\n",
    "\n",
    "\n",
    "clients = {1:'Phillip',2:'Omega III',3:'Ramya',4:'Romesh',5:'John'}\n",
    "\n",
    "for i in shipments:\n",
    "    x,y=shipments[i][0],shipments[i][1]\n",
    "    shipments[i][0]=clients[x]\n",
    "    shipments[i][1]=clients[y]\n",
    "    if (shipments[i][1] == 'Ramya'):\n",
    "        print(shipments[i])"
   ]
  },
  {
   "cell_type": "markdown",
   "id": "115ae6c5",
   "metadata": {},
   "source": [
    "### 6. Print all shipments which are in 'In-Transit' status"
   ]
  },
  {
   "cell_type": "code",
   "execution_count": 8,
   "id": "5e5092ad",
   "metadata": {},
   "outputs": [
    {
     "name": "stdout",
     "output_type": "stream",
     "text": [
      "['Omega III', 'Ramya', '01-12-2020', 'Null', 'Area5', 'Area1', 'In-Transit', 200]\n",
      "['John', 'Omega III', '28-09-2020', 'Null', 'Area3', 'Area1', 'In-Transit', 270]\n"
     ]
    }
   ],
   "source": [
    "for i in shipments:\n",
    "    if (shipments[i][6] == 'In-Transit'):\n",
    "        print(shipments[i])"
   ]
  },
  {
   "cell_type": "markdown",
   "id": "7ae88a6c",
   "metadata": {},
   "source": [
    "### 7. Print all shipments which are delivered within 7 days of courier Start date"
   ]
  },
  {
   "cell_type": "code",
   "execution_count": 9,
   "id": "96fce8b6",
   "metadata": {},
   "outputs": [
    {
     "name": "stdout",
     "output_type": "stream",
     "text": [
      "['Phillip', 'John', '23-06-2020', '25-06-2020', 'Area1', 'Area4', 'Delivered', 314]\n"
     ]
    }
   ],
   "source": [
    "import datetime as dt\n",
    "for i in shipments:\n",
    "    if (shipments[i][3] != 'Null'):\n",
    "        start = dt.datetime.strptime(shipments[i][2], \"%d-%m-%Y\")\n",
    "        end = dt.datetime.strptime(shipments[i][3], \"%d-%m-%Y\")\n",
    "        if (end-start)<= dt.timedelta(days=7):\n",
    "            print(shipments[i])\n",
    "  "
   ]
  },
  {
   "cell_type": "markdown",
   "id": "1de1f57b",
   "metadata": {},
   "source": [
    "### 8. Print all shipments which are delivered after 15 days of courier start date or not yet been delivered."
   ]
  },
  {
   "cell_type": "code",
   "execution_count": 10,
   "id": "2f7d70de",
   "metadata": {},
   "outputs": [
    {
     "name": "stdout",
     "output_type": "stream",
     "text": [
      "['Romesh', 'Phillip', '18-06-2020', '09-07-2020', 'Area2', 'Area4', 'Delivered', 275]\n",
      "['Omega III', 'Ramya', '01-12-2020', 'Null', 'Area5', 'Area1', 'In-Transit', 200]\n",
      "['John', 'Omega III', '28-09-2020', 'Null', 'Area3', 'Area1', 'In-Transit', 270]\n"
     ]
    }
   ],
   "source": [
    "import datetime as dt\n",
    "for i in shipments:\n",
    "    if (shipments[i][3] == 'Null'):\n",
    "        print(shipments[i])\n",
    "    else:\n",
    "        start = dt.datetime.strptime(shipments[i][2], \"%d-%m-%Y\")\n",
    "        end = dt.datetime.strptime(shipments[i][3], \"%d-%m-%Y\")\n",
    "        if (end-start) > dt.timedelta(days = 15):\n",
    "            print(shipments[i])"
   ]
  },
  {
   "cell_type": "markdown",
   "id": "0eb08758",
   "metadata": {},
   "source": [
    "### 9. Write a function find_all_routes to display all possible routes from senders location to receivers location given in the dictionary for each shipment."
   ]
  },
  {
   "cell_type": "code",
   "execution_count": 4,
   "id": "257e8ed6",
   "metadata": {},
   "outputs": [],
   "source": [
    "def find_all_routes(matrix,u,d,visited,path):     \n",
    "        visited[u]= True\n",
    "        path.append(u+1) \n",
    "        if u == d: \n",
    "            print(path) \n",
    "        else: \n",
    "             \n",
    "            for i in range(6):\n",
    "                if matrix[u][i] == 1 and (visited[i]== False): \n",
    "                    find_all_routes(matrix,i, d, visited, path) \n",
    "                      \n",
    "       \n",
    "        path.pop() \n",
    "        visited[u]= False\n",
    "   \n",
    "   \n",
    "matrix = [[0,1,0,0,0,1],[1,0,1,1,0,0],[0,1,0,1,0,0],[0,1,1,0,1,0],[0,0,0,1,0,0],[1,0,0,0,0,0]]\n",
    "visited=[False for i in range(6)]\n",
    "path = []"
   ]
  },
  {
   "cell_type": "code",
   "execution_count": 5,
   "id": "3a20548c",
   "metadata": {},
   "outputs": [
    {
     "name": "stdout",
     "output_type": "stream",
     "text": [
      "Shipment Id:  101\n",
      "Sender's Location 1\n",
      "Receiver's Location 6\n",
      "All possible routes : \n",
      "[1, 6]\n",
      "-----------------------------------\n",
      "Shipment Id:  102\n",
      "Sender's Location 2\n",
      "Receiver's Location 4\n",
      "All possible routes : \n",
      "[2, 3, 4]\n",
      "[2, 4]\n",
      "-----------------------------------\n",
      "Shipment Id:  103\n",
      "Sender's Location 5\n",
      "Receiver's Location 1\n",
      "All possible routes : \n",
      "[5, 4, 2, 1]\n",
      "[5, 4, 3, 2, 1]\n",
      "-----------------------------------\n",
      "Shipment Id:  104\n",
      "Sender's Location 1\n",
      "Receiver's Location 4\n",
      "All possible routes : \n",
      "[1, 2, 3, 4]\n",
      "[1, 2, 4]\n",
      "-----------------------------------\n",
      "Shipment Id:  105\n",
      "Sender's Location 5\n",
      "Receiver's Location 3\n",
      "All possible routes : \n",
      "[5, 4, 2, 3]\n",
      "[5, 4, 3]\n",
      "-----------------------------------\n",
      "Shipment Id:  106\n",
      "Sender's Location 3\n",
      "Receiver's Location 1\n",
      "All possible routes : \n",
      "[3, 2, 1]\n",
      "[3, 4, 2, 1]\n",
      "-----------------------------------\n"
     ]
    }
   ],
   "source": [
    "def Show_all(shipments):\n",
    "    for i in shipments:\n",
    "        print('Shipment Id: ',i)\n",
    "        s = int(shipments[i][4][-1])\n",
    "        print(\"Sender's Location\" , s)\n",
    "        r = int(shipments[i][5][-1])\n",
    "        print(\"Receiver's Location\" , r)\n",
    "        print('All possible routes : ')\n",
    "        find_all_routes(matrix,s-1,r-1,visited,path)\n",
    "        print('-----------------------------------')\n",
    "        \n",
    "Show_all(shipments)"
   ]
  },
  {
   "cell_type": "code",
   "execution_count": null,
   "id": "e3d71d5e",
   "metadata": {},
   "outputs": [],
   "source": []
  },
  {
   "cell_type": "code",
   "execution_count": null,
   "id": "9eb4489b",
   "metadata": {},
   "outputs": [],
   "source": []
  }
 ],
 "metadata": {
  "kernelspec": {
   "display_name": "Python 3",
   "language": "python",
   "name": "python3"
  },
  "language_info": {
   "codemirror_mode": {
    "name": "ipython",
    "version": 3
   },
   "file_extension": ".py",
   "mimetype": "text/x-python",
   "name": "python",
   "nbconvert_exporter": "python",
   "pygments_lexer": "ipython3",
   "version": "3.8.8"
  }
 },
 "nbformat": 4,
 "nbformat_minor": 5
}
